{
 "cells": [
  {
   "cell_type": "code",
   "execution_count": 18,
   "metadata": {},
   "outputs": [],
   "source": [
    "import numpy as np\n",
    "from gtda.diagrams import PersistenceEntropy, ComplexPolynomial\n",
    "from sklearn.model_selection import ShuffleSplit\n",
    "from tqdm import tqdm\n",
    "from sklearn.linear_model import LinearRegression\n",
    "\n",
    "from notebooks.utils import get_files\n",
    "from notebooks.utils.experiments import get_labeled_data, run_experiment"
   ]
  },
  {
   "cell_type": "code",
   "execution_count": 27,
   "metadata": {},
   "outputs": [],
   "source": [
    "def nonstat_features_for_dim(pd, dim):\n",
    "\tb, d, q = pd[pd[:,2] == dim].T\n",
    "\tif dim == 0:\n",
    "\t\tassert d[-1] == np.inf\n",
    "\t\td[-1] = 1\n",
    "\treturn [\n",
    "\t\tPersistenceEntropy().fit_transform([np.c_[b, d, q]])[0],\n",
    "\t\tComplexPolynomial().fit_transform([np.c_[b, d, q]])[0],\n",
    "\t\tnp.pad(np.sort(d - b)[:-11:-1], (0, max(0, 10 - len(b))))\n",
    "\t]\n",
    "\n",
    "nonstat_features = {\n",
    "\t'entropy': 1,\n",
    "\t'poly': 20,\n",
    "\t'pooling': 10\n",
    "}\n",
    "\n",
    "def nonstat_features_all_dims(pd):\n",
    "\tarrs = [np.concatenate(nonstat_features_for_dim(pd, dim)) for dim in (0, 1)]\n",
    "\treturn np.vstack(arrs)"
   ]
  },
  {
   "cell_type": "code",
   "execution_count": 28,
   "metadata": {},
   "outputs": [],
   "source": [
    "files = next(get_files(1, sampler='Random'))\n",
    "X, y = get_labeled_data(1, files, nonstat_features_all_dims)"
   ]
  },
  {
   "cell_type": "code",
   "execution_count": 37,
   "metadata": {},
   "outputs": [
    {
     "name": "stderr",
     "output_type": "stream",
     "text": [
      "100%|██████████| 4/4 [00:02<00:00,  1.60it/s]\n",
      "100%|██████████| 4/4 [00:01<00:00,  2.03it/s]\n",
      "100%|██████████| 4/4 [00:02<00:00,  1.42it/s]\n",
      "100%|██████████| 4/4 [00:01<00:00,  2.75it/s]\n",
      "100%|██████████| 4/4 [00:02<00:00,  1.59it/s]\n",
      "100%|██████████| 4/4 [00:01<00:00,  2.87it/s]\n",
      "100%|██████████| 4/4 [00:01<00:00,  3.07it/s]\n",
      "100%|██████████| 4/4 [00:01<00:00,  2.14it/s]\n"
     ]
    }
   ],
   "source": [
    "def get_results(task, files):\n",
    "\tX, y = get_labeled_data(task, files, nonstat_features_all_dims)\n",
    "\tmasks = [slice(1), slice(1,21), slice(21, None), slice(0, None)]\n",
    "\treturn run_experiment(X, y, masks, 300, LinearRegression)\n",
    "\n",
    "samplers, files_task = zip(*get_files(1))\n",
    "results = np.array(\n",
    "\t[get_results(1, files_sampler) for files_sampler in files_task])"
   ]
  },
  {
   "cell_type": "code",
   "execution_count": null,
   "metadata": {},
   "outputs": [],
   "source": []
  }
 ],
 "metadata": {
  "kernelspec": {
   "display_name": ".venv",
   "language": "python",
   "name": "python3"
  },
  "language_info": {
   "codemirror_mode": {
    "name": "ipython",
    "version": 3
   },
   "file_extension": ".py",
   "mimetype": "text/x-python",
   "name": "python",
   "nbconvert_exporter": "python",
   "pygments_lexer": "ipython3",
   "version": "3.9.15"
  },
  "orig_nbformat": 4,
  "vscode": {
   "interpreter": {
    "hash": "81226aa14f23f9900317dc9fcf2c01924595c28b8e9ad492381f4125680523ff"
   }
  }
 },
 "nbformat": 4,
 "nbformat_minor": 2
}
