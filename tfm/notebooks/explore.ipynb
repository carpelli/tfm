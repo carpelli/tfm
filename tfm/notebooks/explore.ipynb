{
 "cells": [
  {
   "cell_type": "code",
   "execution_count": 123,
   "metadata": {},
   "outputs": [],
   "source": [
    "import sys\n",
    "from pathlib import Path\n",
    "from timeit import default_timer as timer\n",
    "sys.path.append(str(Path.cwd().parent))\n",
    "\n",
    "import numpy as np\n",
    "from matplotlib import pyplot as plt\n",
    "import pandas as pd\n",
    "from hdbscan import HDBSCAN\n",
    "from genieclust import Genie\n",
    "\n",
    "import utils, samplers, main, nb_utils"
   ]
  },
  {
   "cell_type": "code",
   "execution_count": 5,
   "metadata": {},
   "outputs": [],
   "source": [
    "info = {\n",
    "\tf.parent.name:\n",
    "\t[np.prod(l.output.shape[1:]) for l in utils.create_model_instance(f).layers]\n",
    "\tfor f in nb_utils.data_path.glob('*/config.json')\n",
    "}"
   ]
  },
  {
   "attachments": {},
   "cell_type": "markdown",
   "metadata": {},
   "source": [
    "Maximum total number of activations:"
   ]
  },
  {
   "cell_type": "code",
   "execution_count": 6,
   "metadata": {},
   "outputs": [
    {
     "data": {
      "text/plain": [
       "1310986"
      ]
     },
     "execution_count": 6,
     "metadata": {},
     "output_type": "execute_result"
    }
   ],
   "source": [
    "max(sum(el) for el in info.values())"
   ]
  },
  {
   "attachments": {},
   "cell_type": "markdown",
   "metadata": {},
   "source": [
    "Excluding the first layer"
   ]
  },
  {
   "cell_type": "code",
   "execution_count": 8,
   "metadata": {},
   "outputs": [
    {
     "data": {
      "text/plain": [
       "786698"
      ]
     },
     "execution_count": 8,
     "metadata": {},
     "output_type": "execute_result"
    }
   ],
   "source": [
    "max([sum(el[1:]) for el in info.values()])"
   ]
  },
  {
   "cell_type": "code",
   "execution_count": 9,
   "metadata": {},
   "outputs": [],
   "source": [
    "x = utils.import_and_sample_data(\n",
    "\tnb_utils.data_path / \"dataset_1\", main.DATA_SAMPLE_SIZE)\n",
    "model = utils.import_model(nb_utils.data_path / 'model_20')\n",
    "included_layers = model.layers[1:]\n",
    "activation_samples = samplers.apply(samplers.Random(200000), model, included_layers, x)"
   ]
  },
  {
   "cell_type": "code",
   "execution_count": 10,
   "metadata": {},
   "outputs": [
    {
     "data": {
      "text/plain": [
       "0.033590365"
      ]
     },
     "execution_count": 10,
     "metadata": {},
     "output_type": "execute_result"
    }
   ],
   "source": [
    "activation_samples.mean(axis=1).std()"
   ]
  },
  {
   "cell_type": "code",
   "execution_count": 11,
   "metadata": {},
   "outputs": [
    {
     "data": {
      "text/plain": [
       "1.6"
      ]
     },
     "execution_count": 11,
     "metadata": {},
     "output_type": "execute_result"
    }
   ],
   "source": [
    "activation_samples.nbytes / 1000_000_000"
   ]
  },
  {
   "attachments": {},
   "cell_type": "markdown",
   "metadata": {},
   "source": [
    "### Calculation times for clustering method"
   ]
  },
  {
   "cell_type": "code",
   "execution_count": 46,
   "metadata": {},
   "outputs": [],
   "source": [
    "def time_clustering_methods(cluster_fns, x, n_list, tries_list):\n",
    "\ttimes_mat = [0] * len(n_list)\n",
    "\ttimes_methods = {name: [0]*len(n_list) for name in cluster_fns}\n",
    "\tcluster_info = {name: [[] for _ in n_list] for name in cluster_fns}\n",
    "\n",
    "\tfor i, (n, tries) in enumerate(zip(n_list, tries_list)):\n",
    "\t\tfor j in range(tries):\n",
    "\t\t\tix = np.random.choice(len(x), n, replace=False)\n",
    "\n",
    "\t\t\tstart = timer()\n",
    "\t\t\tdm = main.compute_distance_matrix(activation_samples[ix])\n",
    "\t\t\ttimes_mat[i] += timer() - start\n",
    "\n",
    "\t\t\tfor name, fn in cluster_fns.items():\n",
    "\t\t\t\tprint(f\"Sample size {i+1}/{len(n_list)} try {j+1}/{tries} of method {name}\", \" \"*10, end=\"\\r\")\n",
    "\t\t\t\tstart = timer()\n",
    "\t\t\t\tcluster_info[name][i] += [fn(dm)]\n",
    "\t\t\t\ttimes_methods[name][i] += timer() - start\n",
    "\n",
    "\t\ttimes_mat[i] /= tries\n",
    "\t\tfor name in cluster_fns:\n",
    "\t\t\ttimes_methods[name][i] /= tries\n",
    "\treturn times_mat, times_methods, cluster_info"
   ]
  },
  {
   "cell_type": "code",
   "execution_count": 93,
   "metadata": {},
   "outputs": [
    {
     "name": "stdout",
     "output_type": "stream",
     "text": [
      "Sample size 10/10 try 1/1 of method hdbscan           \r"
     ]
    }
   ],
   "source": [
    "n_list = np.logspace(3, 4.4, num=10).astype(int)\n",
    "times_mat, times_methods, cluster_info = time_clustering_methods(\n",
    "\t{'hdbscan': lambda x: HDBSCAN(metric='precomputed').fit(x)},\n",
    "\tactivation_samples, n_list,\n",
    "\ttries_list=np.linspace(6, 1, num=10).astype(int)\n",
    ")"
   ]
  },
  {
   "cell_type": "code",
   "execution_count": 96,
   "metadata": {},
   "outputs": [
    {
     "data": {
      "image/png": "[encoded data removed]",
      "text/plain": [
       "<Figure size 640x480 with 1 Axes>"
      ]
     },
     "metadata": {},
     "output_type": "display_data"
    }
   ],
   "source": [
    "plt.plot(n_list, times_methods['hdbscan'], label=\"clustering\")\n",
    "plt.plot(n_list, times_mat, label=\"distance matrix\")\n",
    "# plt.plot(x, y)\n",
    "plt.legend()\n",
    "plt.show()"
   ]
  },
  {
   "attachments": {},
   "cell_type": "markdown",
   "metadata": {},
   "source": [
    "### HDBSCAN clustering"
   ]
  },
  {
   "attachments": {},
   "cell_type": "markdown",
   "metadata": {},
   "source": [
    "We repeatedly cluster a random sample of 20.000 neurons to get an idea of the behaviour of the algorithm on the data:"
   ]
  },
  {
   "cell_type": "code",
   "execution_count": 97,
   "metadata": {},
   "outputs": [
    {
     "name": "stdout",
     "output_type": "stream",
     "text": [
      "20/20  \r"
     ]
    }
   ],
   "source": [
    "label_list = []\n",
    "for i in range(20):\n",
    "\tprint(f\"{i+1}/20  \", end=\"\\r\")\n",
    "\tsubsample = activation_samples[np.random.choice(len(activation_samples), 20000)]\n",
    "\tdm = main.compute_distance_matrix(subsample)\n",
    "\tcluster = HDBSCAN(metric='precomputed')\n",
    "\tcluster.fit(dm)\n",
    "\tlabel_list += [cluster.labels_]"
   ]
  },
  {
   "cell_type": "code",
   "execution_count": 99,
   "metadata": {},
   "outputs": [],
   "source": [
    "import pickle\n",
    "with open('label_list.pickle', 'wb') as f:\n",
    "\tpickle.dump(label_list, f)"
   ]
  },
  {
   "cell_type": "code",
   "execution_count": 128,
   "metadata": {},
   "outputs": [],
   "source": [
    "label_list = pickle.loads(Path('label_list.pickle').read_bytes())"
   ]
  },
  {
   "attachments": {},
   "cell_type": "markdown",
   "metadata": {},
   "source": [
    "The number of clusters (one of which is the group of outliers) and the number of outliers for each iteration:"
   ]
  },
  {
   "cell_type": "code",
   "execution_count": 24,
   "metadata": {},
   "outputs": [],
   "source": [
    "for labels in label_list\n",
    "\tlabels, counts = np.unique(cluster.labels_, return_counts=True)"
   ]
  },
  {
   "cell_type": "code",
   "execution_count": 102,
   "metadata": {},
   "outputs": [
    {
     "data": {
      "text/html": [
       "<div>\n",
       "<style scoped>\n",
       "    .dataframe tbody tr th:only-of-type {\n",
       "        vertical-align: middle;\n",
       "    }\n",
       "\n",
       "    .dataframe tbody tr th {\n",
       "        vertical-align: top;\n",
       "    }\n",
       "\n",
       "    .dataframe thead th {\n",
       "        text-align: right;\n",
       "    }\n",
       "</style>\n",
       "<table border=\"1\" class=\"dataframe\">\n",
       "  <thead>\n",
       "    <tr style=\"text-align: right;\">\n",
       "      <th></th>\n",
       "      <th>0</th>\n",
       "      <th>1</th>\n",
       "      <th>2</th>\n",
       "      <th>3</th>\n",
       "      <th>4</th>\n",
       "      <th>5</th>\n",
       "      <th>6</th>\n",
       "      <th>7</th>\n",
       "      <th>8</th>\n",
       "      <th>9</th>\n",
       "      <th>10</th>\n",
       "      <th>11</th>\n",
       "      <th>12</th>\n",
       "      <th>13</th>\n",
       "      <th>14</th>\n",
       "      <th>15</th>\n",
       "      <th>16</th>\n",
       "      <th>17</th>\n",
       "      <th>18</th>\n",
       "      <th>19</th>\n",
       "    </tr>\n",
       "  </thead>\n",
       "  <tbody>\n",
       "    <tr>\n",
       "      <th>num clusters</th>\n",
       "      <td>173</td>\n",
       "      <td>3</td>\n",
       "      <td>168</td>\n",
       "      <td>3</td>\n",
       "      <td>3</td>\n",
       "      <td>3</td>\n",
       "      <td>181</td>\n",
       "      <td>4</td>\n",
       "      <td>3</td>\n",
       "      <td>197</td>\n",
       "      <td>174</td>\n",
       "      <td>5</td>\n",
       "      <td>4</td>\n",
       "      <td>166</td>\n",
       "      <td>196</td>\n",
       "      <td>3</td>\n",
       "      <td>3</td>\n",
       "      <td>185</td>\n",
       "      <td>4</td>\n",
       "      <td>179</td>\n",
       "    </tr>\n",
       "    <tr>\n",
       "      <th>num outliers</th>\n",
       "      <td>17605</td>\n",
       "      <td>5793</td>\n",
       "      <td>17532</td>\n",
       "      <td>1</td>\n",
       "      <td>5468</td>\n",
       "      <td>1</td>\n",
       "      <td>17740</td>\n",
       "      <td>1</td>\n",
       "      <td>1</td>\n",
       "      <td>17522</td>\n",
       "      <td>17533</td>\n",
       "      <td>7203</td>\n",
       "      <td>1</td>\n",
       "      <td>17824</td>\n",
       "      <td>18015</td>\n",
       "      <td>2799</td>\n",
       "      <td>4307</td>\n",
       "      <td>18001</td>\n",
       "      <td>1</td>\n",
       "      <td>17646</td>\n",
       "    </tr>\n",
       "  </tbody>\n",
       "</table>\n",
       "</div>"
      ],
      "text/plain": [
       "                 0     1      2   3     4   5      6   7   8      9      10  \\\n",
       "num clusters    173     3    168   3     3   3    181   4   3    197    174   \n",
       "num outliers  17605  5793  17532   1  5468   1  17740   1   1  17522  17533   \n",
       "\n",
       "                11  12     13     14    15    16     17  18     19  \n",
       "num clusters     5   4    166    196     3     3    185   4    179  \n",
       "num outliers  7203   1  17824  18015  2799  4307  18001   1  17646  "
      ]
     },
     "execution_count": 102,
     "metadata": {},
     "output_type": "execute_result"
    }
   ],
   "source": [
    "data = np.vstack([\n",
    "\t[len(set(labels)) for labels in label_list],\n",
    "\t[sum(labels==-1) for labels in label_list]\n",
    "])\n",
    "pd.DataFrame(data, index=[\"num clusters\", \"num outliers\"])"
   ]
  },
  {
   "attachments": {},
   "cell_type": "markdown",
   "metadata": {},
   "source": [
    "The distribution over the clusters in iterations with a small number of clusters"
   ]
  },
  {
   "cell_type": "code",
   "execution_count": 121,
   "metadata": {},
   "outputs": [
    {
     "data": {
      "text/html": [
       "<div>\n",
       "<style scoped>\n",
       "    .dataframe tbody tr th:only-of-type {\n",
       "        vertical-align: middle;\n",
       "    }\n",
       "\n",
       "    .dataframe tbody tr th {\n",
       "        vertical-align: top;\n",
       "    }\n",
       "\n",
       "    .dataframe thead th {\n",
       "        text-align: right;\n",
       "    }\n",
       "</style>\n",
       "<table border=\"1\" class=\"dataframe\">\n",
       "  <thead>\n",
       "    <tr style=\"text-align: right;\">\n",
       "      <th></th>\n",
       "      <th>outliers</th>\n",
       "      <th></th>\n",
       "      <th></th>\n",
       "      <th></th>\n",
       "      <th></th>\n",
       "      <th></th>\n",
       "    </tr>\n",
       "  </thead>\n",
       "  <tbody>\n",
       "    <tr>\n",
       "      <th>1</th>\n",
       "      <td>5793</td>\n",
       "      <td>14201</td>\n",
       "      <td>6</td>\n",
       "      <td></td>\n",
       "      <td></td>\n",
       "      <td></td>\n",
       "    </tr>\n",
       "    <tr>\n",
       "      <th>3</th>\n",
       "      <td>1</td>\n",
       "      <td>19994</td>\n",
       "      <td>5</td>\n",
       "      <td></td>\n",
       "      <td></td>\n",
       "      <td></td>\n",
       "    </tr>\n",
       "    <tr>\n",
       "      <th>4</th>\n",
       "      <td>5468</td>\n",
       "      <td>14525</td>\n",
       "      <td>7</td>\n",
       "      <td></td>\n",
       "      <td></td>\n",
       "      <td></td>\n",
       "    </tr>\n",
       "    <tr>\n",
       "      <th>5</th>\n",
       "      <td>1</td>\n",
       "      <td>19992</td>\n",
       "      <td>7</td>\n",
       "      <td></td>\n",
       "      <td></td>\n",
       "      <td></td>\n",
       "    </tr>\n",
       "    <tr>\n",
       "      <th>7</th>\n",
       "      <td>1</td>\n",
       "      <td>9</td>\n",
       "      <td>19983</td>\n",
       "      <td>7</td>\n",
       "      <td></td>\n",
       "      <td></td>\n",
       "    </tr>\n",
       "    <tr>\n",
       "      <th>8</th>\n",
       "      <td>1</td>\n",
       "      <td>19994</td>\n",
       "      <td>5</td>\n",
       "      <td></td>\n",
       "      <td></td>\n",
       "      <td></td>\n",
       "    </tr>\n",
       "    <tr>\n",
       "      <th>11</th>\n",
       "      <td>7203</td>\n",
       "      <td>5</td>\n",
       "      <td>6</td>\n",
       "      <td>12778</td>\n",
       "      <td>8</td>\n",
       "      <td></td>\n",
       "    </tr>\n",
       "    <tr>\n",
       "      <th>12</th>\n",
       "      <td>1</td>\n",
       "      <td>8</td>\n",
       "      <td>19986</td>\n",
       "      <td>5</td>\n",
       "      <td></td>\n",
       "      <td></td>\n",
       "    </tr>\n",
       "    <tr>\n",
       "      <th>15</th>\n",
       "      <td>2799</td>\n",
       "      <td>17195</td>\n",
       "      <td>6</td>\n",
       "      <td></td>\n",
       "      <td></td>\n",
       "      <td></td>\n",
       "    </tr>\n",
       "    <tr>\n",
       "      <th>16</th>\n",
       "      <td>4307</td>\n",
       "      <td>15688</td>\n",
       "      <td>5</td>\n",
       "      <td></td>\n",
       "      <td></td>\n",
       "      <td></td>\n",
       "    </tr>\n",
       "    <tr>\n",
       "      <th>18</th>\n",
       "      <td>1</td>\n",
       "      <td>8</td>\n",
       "      <td>19985</td>\n",
       "      <td>6</td>\n",
       "      <td></td>\n",
       "      <td></td>\n",
       "    </tr>\n",
       "  </tbody>\n",
       "</table>\n",
       "</div>"
      ],
      "text/plain": [
       "    outliers                          \n",
       "1       5793  14201      6            \n",
       "3          1  19994      5            \n",
       "4       5468  14525      7            \n",
       "5          1  19992      7            \n",
       "7          1      9  19983      7     \n",
       "8          1  19994      5            \n",
       "11      7203      5      6  12778  8  \n",
       "12         1      8  19986      5     \n",
       "15      2799  17195      6            \n",
       "16      4307  15688      5            \n",
       "18         1      8  19985      6     "
      ]
     },
     "execution_count": 121,
     "metadata": {},
     "output_type": "execute_result"
    }
   ],
   "source": [
    "data = {\n",
    "\ti:\n",
    "\tlist(np.unique(labels, return_counts=True)[1]) + ['']*(6-size)\n",
    "\tfor i, labels in enumerate(label_list) if (size := len(set(labels))) < 6\n",
    "}\n",
    "pd.DataFrame([*data.values()],\n",
    "\t\t     index=data.keys(),\n",
    "\t\t\t columns=[\"outliers\"] + ['']*5)"
   ]
  },
  {
   "cell_type": "code",
   "execution_count": 4,
   "metadata": {},
   "outputs": [],
   "source": [
    "import numpy as np\n",
    "\n",
    "def compute_distance_matrix(activations):\n",
    "    with np.errstate(invalid='ignore'):\n",
    "        correlations = np.nan_to_num(np.corrcoef(activations), copy=False)\n",
    "    np.fill_diagonal(correlations, 1)\n",
    "    assert not (correlations < -1).any() or (1 < correlations).any()\n",
    "    return np.sqrt(1 - correlations*correlations)"
   ]
  },
  {
   "cell_type": "code",
   "execution_count": 131,
   "metadata": {},
   "outputs": [
    {
     "name": "stdout",
     "output_type": "stream",
     "text": [
      "Sample size 1/10 try 1/6 of method genie           \r"
     ]
    },
    {
     "ename": "ValueError",
     "evalue": "Package `nmslib` is not available.",
     "output_type": "error",
     "traceback": [
      "\u001b[0;31m---------------------------------------------------------------------------\u001b[0m",
      "\u001b[0;31mValueError\u001b[0m                                Traceback (most recent call last)",
      "Cell \u001b[0;32mIn [131], line 5\u001b[0m\n\u001b[1;32m      2\u001b[0m reload(genieclust)\n\u001b[1;32m      4\u001b[0m n_list \u001b[39m=\u001b[39m np\u001b[39m.\u001b[39mlinspace(\u001b[39m1000\u001b[39m, \u001b[39m10000\u001b[39m, num\u001b[39m=\u001b[39m\u001b[39m10\u001b[39m)\u001b[39m.\u001b[39mastype(\u001b[39mint\u001b[39m)\n\u001b[0;32m----> 5\u001b[0m times_mat, times_methods, cluster_info \u001b[39m=\u001b[39m time_clustering_methods(\n\u001b[1;32m      6\u001b[0m \t{\u001b[39m'\u001b[39;49m\u001b[39mgenie\u001b[39;49m\u001b[39m'\u001b[39;49m: Genie(affinity\u001b[39m=\u001b[39;49m\u001b[39m'\u001b[39;49m\u001b[39mprecomputed\u001b[39;49m\u001b[39m'\u001b[39;49m, exact\u001b[39m=\u001b[39;49m\u001b[39mFalse\u001b[39;49;00m)\u001b[39m.\u001b[39;49mfit_predict},\n\u001b[1;32m      7\u001b[0m \tactivation_samples, n_list,\n\u001b[1;32m      8\u001b[0m \ttries_list\u001b[39m=\u001b[39;49mnp\u001b[39m.\u001b[39;49mlinspace(\u001b[39m6\u001b[39;49m, \u001b[39m1\u001b[39;49m, num\u001b[39m=\u001b[39;49m\u001b[39m10\u001b[39;49m)\u001b[39m.\u001b[39;49mastype(\u001b[39mint\u001b[39;49m)\n\u001b[1;32m      9\u001b[0m )\n",
      "Cell \u001b[0;32mIn [46], line 17\u001b[0m, in \u001b[0;36mtime_clustering_methods\u001b[0;34m(cluster_fns, x, n_list, tries_list)\u001b[0m\n\u001b[1;32m     15\u001b[0m \t\t\u001b[39mprint\u001b[39m(\u001b[39mf\u001b[39m\u001b[39m\"\u001b[39m\u001b[39mSample size \u001b[39m\u001b[39m{\u001b[39;00mi\u001b[39m+\u001b[39m\u001b[39m1\u001b[39m\u001b[39m}\u001b[39;00m\u001b[39m/\u001b[39m\u001b[39m{\u001b[39;00m\u001b[39mlen\u001b[39m(n_list)\u001b[39m}\u001b[39;00m\u001b[39m try \u001b[39m\u001b[39m{\u001b[39;00mj\u001b[39m+\u001b[39m\u001b[39m1\u001b[39m\u001b[39m}\u001b[39;00m\u001b[39m/\u001b[39m\u001b[39m{\u001b[39;00mtries\u001b[39m}\u001b[39;00m\u001b[39m of method \u001b[39m\u001b[39m{\u001b[39;00mname\u001b[39m}\u001b[39;00m\u001b[39m\"\u001b[39m, \u001b[39m\"\u001b[39m\u001b[39m \u001b[39m\u001b[39m\"\u001b[39m\u001b[39m*\u001b[39m\u001b[39m10\u001b[39m, end\u001b[39m=\u001b[39m\u001b[39m\"\u001b[39m\u001b[39m\\r\u001b[39;00m\u001b[39m\"\u001b[39m)\n\u001b[1;32m     16\u001b[0m \t\tstart \u001b[39m=\u001b[39m timer()\n\u001b[0;32m---> 17\u001b[0m \t\tcluster_info[name][i] \u001b[39m+\u001b[39m\u001b[39m=\u001b[39m [fn(dm)]\n\u001b[1;32m     18\u001b[0m \t\ttimes_methods[name][i] \u001b[39m+\u001b[39m\u001b[39m=\u001b[39m timer() \u001b[39m-\u001b[39m start\n\u001b[1;32m     20\u001b[0m times_mat[i] \u001b[39m/\u001b[39m\u001b[39m=\u001b[39m tries\n",
      "File \u001b[0;32m~/Sync/uni/tfm/.venv/lib/python3.9/site-packages/genieclust/genie.py:548\u001b[0m, in \u001b[0;36mGenieBase.fit_predict\u001b[0;34m(self, X, y)\u001b[0m\n\u001b[1;32m    520\u001b[0m \u001b[39mdef\u001b[39;00m \u001b[39mfit_predict\u001b[39m(\u001b[39mself\u001b[39m, X, y\u001b[39m=\u001b[39m\u001b[39mNone\u001b[39;00m):\n\u001b[1;32m    521\u001b[0m     \u001b[39m\"\"\"\u001b[39;00m\n\u001b[1;32m    522\u001b[0m \u001b[39m    Perform cluster analysis of a dataset and return the predicted labels.\u001b[39;00m\n\u001b[1;32m    523\u001b[0m \n\u001b[0;32m   (...)\u001b[0m\n\u001b[1;32m    546\u001b[0m \n\u001b[1;32m    547\u001b[0m \u001b[39m    \"\"\"\u001b[39;00m\n\u001b[0;32m--> 548\u001b[0m     \u001b[39mself\u001b[39;49m\u001b[39m.\u001b[39;49mfit(X)\n\u001b[1;32m    549\u001b[0m     \u001b[39mreturn\u001b[39;00m \u001b[39mself\u001b[39m\u001b[39m.\u001b[39mlabels_\n",
      "File \u001b[0;32m~/Sync/uni/tfm/.venv/lib/python3.9/site-packages/genieclust/genie.py:1046\u001b[0m, in \u001b[0;36mGenie.fit\u001b[0;34m(self, X, y)\u001b[0m\n\u001b[1;32m    967\u001b[0m \u001b[39m\"\"\"\u001b[39;00m\n\u001b[1;32m    968\u001b[0m \u001b[39mPerform cluster analysis of a dataset.\u001b[39;00m\n\u001b[1;32m    969\u001b[0m \n\u001b[0;32m   (...)\u001b[0m\n\u001b[1;32m   1042\u001b[0m \n\u001b[1;32m   1043\u001b[0m \u001b[39m\"\"\"\u001b[39;00m\n\u001b[1;32m   1044\u001b[0m cur_state \u001b[39m=\u001b[39m \u001b[39mself\u001b[39m\u001b[39m.\u001b[39m_check_params()  \u001b[39m# re-check, they might have changed\u001b[39;00m\n\u001b[0;32m-> 1046\u001b[0m cur_state \u001b[39m=\u001b[39m \u001b[39mself\u001b[39;49m\u001b[39m.\u001b[39;49m_get_mst(X, cur_state)\n\u001b[1;32m   1048\u001b[0m \u001b[39mif\u001b[39;00m cur_state[\u001b[39m\"\u001b[39m\u001b[39mverbose\u001b[39m\u001b[39m\"\u001b[39m]:\n\u001b[1;32m   1049\u001b[0m     \u001b[39mprint\u001b[39m(\u001b[39m\"\u001b[39m\u001b[39m[genieclust] Determining clusters with Genie++.\u001b[39m\u001b[39m\"\u001b[39m, file\u001b[39m=\u001b[39msys\u001b[39m.\u001b[39mstderr)\n",
      "File \u001b[0;32m~/Sync/uni/tfm/.venv/lib/python3.9/site-packages/genieclust/genie.py:511\u001b[0m, in \u001b[0;36mGenieBase._get_mst\u001b[0;34m(self, X, cur_state)\u001b[0m\n\u001b[1;32m    509\u001b[0m     cur_state \u001b[39m=\u001b[39m \u001b[39mself\u001b[39m\u001b[39m.\u001b[39m_get_mst_exact(X, cur_state)\n\u001b[1;32m    510\u001b[0m \u001b[39melse\u001b[39;00m:\n\u001b[0;32m--> 511\u001b[0m     cur_state \u001b[39m=\u001b[39m \u001b[39mself\u001b[39;49m\u001b[39m.\u001b[39;49m_get_mst_approx(X, cur_state)\n\u001b[1;32m    513\u001b[0m \u001b[39m# this might be an \"intrinsic\" dimensionality:\u001b[39;00m\n\u001b[1;32m    514\u001b[0m \u001b[39mself\u001b[39m\u001b[39m.\u001b[39mn_features_  \u001b[39m=\u001b[39m cur_state[\u001b[39m\"\u001b[39m\u001b[39mn_features\u001b[39m\u001b[39m\"\u001b[39m]\n",
      "File \u001b[0;32m~/Sync/uni/tfm/.venv/lib/python3.9/site-packages/genieclust/genie.py:380\u001b[0m, in \u001b[0;36mGenieBase._get_mst_approx\u001b[0;34m(self, X, cur_state)\u001b[0m\n\u001b[1;32m    378\u001b[0m \u001b[39mdef\u001b[39;00m \u001b[39m_get_mst_approx\u001b[39m(\u001b[39mself\u001b[39m, X, cur_state):\n\u001b[1;32m    379\u001b[0m     \u001b[39mif\u001b[39;00m nmslib \u001b[39mis\u001b[39;00m \u001b[39mNone\u001b[39;00m:\n\u001b[0;32m--> 380\u001b[0m         \u001b[39mraise\u001b[39;00m \u001b[39mValueError\u001b[39;00m(\u001b[39m\"\u001b[39m\u001b[39mPackage `nmslib` is not available.\u001b[39m\u001b[39m\"\u001b[39m)\n\u001b[1;32m    382\u001b[0m     \u001b[39mif\u001b[39;00m cur_state[\u001b[39m\"\u001b[39m\u001b[39maffinity\u001b[39m\u001b[39m\"\u001b[39m] \u001b[39m==\u001b[39m \u001b[39m\"\u001b[39m\u001b[39mprecomputed\u001b[39m\u001b[39m\"\u001b[39m:\n\u001b[1;32m    383\u001b[0m         \u001b[39mraise\u001b[39;00m \u001b[39mValueError\u001b[39;00m(\n\u001b[1;32m    384\u001b[0m             \u001b[39m\"\u001b[39m\u001b[39m`affinity` of \u001b[39m\u001b[39m'\u001b[39m\u001b[39mprecomputed\u001b[39m\u001b[39m'\u001b[39m\u001b[39m can only be used \u001b[39m\u001b[39m\"\u001b[39m\n\u001b[1;32m    385\u001b[0m             \u001b[39m\"\u001b[39m\u001b[39mwith `exact` = True.\u001b[39m\u001b[39m\"\u001b[39m)\n",
      "\u001b[0;31mValueError\u001b[0m: Package `nmslib` is not available."
     ]
    }
   ],
   "source": [
    "from importlib import reload\n",
    "reload(genieclust)\n",
    "\n",
    "n_list = np.linspace(1000, 10000, num=10).astype(int)\n",
    "times_mat, times_methods, cluster_info = time_clustering_methods(\n",
    "\t{'genie': Genie(affinity='precomputed', exact=False).fit_predict},\n",
    "\tactivation_samples, n_list,\n",
    "\ttries_list=np.linspace(6, 1, num=10).astype(int)\n",
    ")"
   ]
  },
  {
   "cell_type": "code",
   "execution_count": 126,
   "metadata": {},
   "outputs": [
    {
     "name": "stderr",
     "output_type": "stream",
     "text": [
      "Your CPU supports instructions that this binary was not compiled to use: AVX2\n",
      "For maximum performance, you can install NMSLIB from sources \n",
      "pip install --no-binary :all: nmslib\n"
     ]
    }
   ],
   "source": [
    "import nmslib"
   ]
  }
 ],
 "metadata": {
  "kernelspec": {
   "display_name": ".venv",
   "language": "python",
   "name": "python3"
  },
  "language_info": {
   "codemirror_mode": {
    "name": "ipython",
    "version": 3
   },
   "file_extension": ".py",
   "mimetype": "text/x-python",
   "name": "python",
   "nbconvert_exporter": "python",
   "pygments_lexer": "ipython3",
   "version": "3.9.15 (main, Nov 29 2022, 19:40:25) \n[Clang 14.0.0 (clang-1400.0.29.202)]"
  },
  "orig_nbformat": 4,
  "vscode": {
   "interpreter": {
    "hash": "da64f636dadf952de2ebe4aa0072f72cf4c362dd113af031c1ed8ef45d32abdd"
   }
  }
 },
 "nbformat": 4,
 "nbformat_minor": 2
}
