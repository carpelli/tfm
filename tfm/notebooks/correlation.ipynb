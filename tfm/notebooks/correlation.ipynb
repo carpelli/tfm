{
 "cells": [
  {
   "cell_type": "code",
   "execution_count": null,
   "metadata": {},
   "outputs": [],
   "source": [
    "import sys\n",
    "from pathlib import Path\n",
    "sys.path.append(str(Path.cwd().parent))\n",
    "\n",
    "import utils, samplers, main, nb_utils"
   ]
  },
  {
   "cell_type": "code",
   "execution_count": null,
   "metadata": {},
   "outputs": [],
   "source": [
    "activations = []\n",
    "for i in range(10):\n",
    "\tx = utils.import_and_sample_data(\n",
    "\t\tnb_utils.data_path / \"dataset_1\", main.DATA_SAMPLE_SIZE)\n",
    "\tmodel = utils.import_model(nb_utils.data_path / 'model_20')\n",
    "\tincluded_layers = model.layers[1:]\n",
    "\tactivation_samples = samplers.Random(200000).apply(model, included_layers, x)"
   ]
  }
 ],
 "metadata": {
  "kernelspec": {
   "display_name": ".venv",
   "language": "python",
   "name": "python3"
  },
  "language_info": {
   "name": "python",
   "version": "3.9.15 (main, Nov 29 2022, 19:40:25) \n[Clang 14.0.0 (clang-1400.0.29.202)]"
  },
  "orig_nbformat": 4,
  "vscode": {
   "interpreter": {
    "hash": "81226aa14f23f9900317dc9fcf2c01924595c28b8e9ad492381f4125680523ff"
   }
  }
 },
 "nbformat": 4,
 "nbformat_minor": 2
}
