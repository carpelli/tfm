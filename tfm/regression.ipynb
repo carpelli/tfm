{
 "cells": [
  {
   "cell_type": "code",
   "execution_count": 11,
   "metadata": {},
   "outputs": [],
   "source": [
    "from pathlib import Path\n",
    "import pickle\n",
    "import itertools\n",
    "import json\n",
    "\n",
    "import numpy as np\n",
    "from tqdm import tqdm\n",
    "from sklearn.model_selection import train_test_split\n",
    "from sklearn.linear_model import LinearRegression\n",
    "\n",
    "from ruben import PersistenceDiagram"
   ]
  },
  {
   "cell_type": "code",
   "execution_count": 170,
   "metadata": {},
   "outputs": [],
   "source": [
    "outdir = Path('../out/')\n",
    "ref_file = Path(\n",
    "    \"/Users/otis/Documents/rubens_speelhoekje/google/google_data/public_data/reference_data/task1_v4/model_configs.json\")"
   ]
  },
  {
   "cell_type": "code",
   "execution_count": 171,
   "metadata": {},
   "outputs": [],
   "source": [
    "from gtda.diagrams import PersistenceEntropy, ComplexPolynomial\n",
    "\n",
    "def features_for_dim(pd, dim):\n",
    "\t# b: birth, d: death\n",
    "\tb, d, _ = pd[pd[:,2] == dim].T\n",
    "\tif dim == 0:\n",
    "\t\tassert d[-1] == np.inf\n",
    "\t\td[-1] = 1\n",
    "\twith np.errstate(invalid='ignore', divide='ignore'):\n",
    "\t\treturn [\n",
    "\t\t\tmean_bd := np.c_[b, d].mean(axis=0),\n",
    "\t\t\tmean_bd**2,\n",
    "\t\t\tnp.nan_to_num(1/mean_bd + np.log(mean_bd)), # fix divide by zero\n",
    "\t\t\tnp.c_[b, d].std(axis=0),\n",
    "\t\t\t[np.mean(b - d)],\n",
    "\t\t\t[np.mean(b - d)**2],\n",
    "\t\t\t[np.mean((b + d) / 2)],\n",
    "\t\t\t[np.mean((b + d) / 2)**2],\n",
    "\t\t]\n",
    "\n",
    "features = {\n",
    "\t'avg_birth_death': 2,\n",
    "\t'avg_birth_death_squared': 2,\n",
    "\t'avg_birth_death_inverted' : 2,\n",
    "\t'std_birth_death': 2,\n",
    "\t'avg_life': 1,\n",
    "\t'avg_life_squared': 1,\n",
    "\t'avg_half_life': 1,\n",
    "\t'avg_half_life_squared': 1\n",
    "}\n",
    "\n",
    "def features_all_dims(pd):\n",
    "\tarrs = [np.concatenate(features_for_dim(pd, dim)) for dim in (0, 1)]\n",
    "\treturn np.vstack(arrs)"
   ]
  },
  {
   "cell_type": "code",
   "execution_count": 172,
   "metadata": {},
   "outputs": [],
   "source": [
    "gen_gaps = {\n",
    "\t'model_' + k: v['metrics']['train_acc'] - v['metrics']['test_acc']\n",
    "\tfor k, v in json.loads(ref_file.read_text()).items()\n",
    "}\n",
    "\n",
    "def get_labeled_data(dir):\n",
    "\tcandidates = [dir / (model + '.pd.npy') for model in gen_gaps]\n",
    "\tfiles = [file for file in candidates if file.exists()]\n",
    "\tmodels = [file.stem.split('.')[0] for file in files]\n",
    "\tif len(models) < len(gen_gaps):\n",
    "\t\tprint('Missing ', [m for m in gen_gaps if m not in models])\n",
    "\tpds = [*map(np.load, files)]\n",
    "\tX = np.stack([*map(features_all_dims, pds)])\n",
    "\ty = [gen_gaps[m] for m in models]\n",
    "\treturn X, y"
   ]
  },
  {
   "cell_type": "code",
   "execution_count": 183,
   "metadata": {},
   "outputs": [],
   "source": [
    "def feature_mask(included):\n",
    "\treturn np.concatenate([\n",
    "\t\tnp.full(length, 1 if feature in included else 0)\n",
    "\t\tfor feature, length in features.items()\n",
    "\t])\n",
    "\n",
    "def run_experiment(X, y, model_fn):\n",
    "\tglobal features\n",
    "\tresults = {}\n",
    "\tcombinations = itertools.chain(*(\n",
    "\t\titertools.combinations(features.keys(), r)\n",
    "\t\tfor r in range(1, len(features) + 1)\n",
    "\t))\n",
    "\trand_int = np.random.default_rng().integers(2**32 - 1)\n",
    "\tfor combo in tqdm([*combinations]):\n",
    "\t\t# Should I do cross-validation here?\n",
    "\t\t# and vary the splits over the different combos\n",
    "\t\t# or keep them the same?\n",
    "\t\tX_masked = X[:,:,np.where(feature_mask(combo))[0]]\n",
    "\t\tX_flattened = X_masked.reshape((len(X), -1))\n",
    "\t\tX_train, X_test, y_train, y_test = train_test_split(\n",
    "\t\t\tX_flattened, y, train_size=0.7, random_state=rand_int)\n",
    "\t\treg = model_fn().fit(X_train, y_train)\n",
    "\t\tresults[combo] = reg.score(X_test, y_test)\n",
    "\treturn results"
   ]
  },
  {
   "cell_type": "code",
   "execution_count": 185,
   "metadata": {},
   "outputs": [
    {
     "name": "stdout",
     "output_type": "stream",
     "text": [
      "Sampler:  importance\n",
      "Missing  ['model_156', 'model_157', 'model_158', 'model_220', 'model_221']\n"
     ]
    },
    {
     "name": "stderr",
     "output_type": "stream",
     "text": [
      "100%|██████████| 255/255 [00:00<00:00, 358.38it/s]\n"
     ]
    },
    {
     "name": "stdout",
     "output_type": "stream",
     "text": [
      "All features:\n",
      "(('avg_birth_death', 'avg_birth_death_squared', 'avg_birth_death_inverted', 'std_birth_death', 'avg_life', 'avg_life_squared', 'avg_half_life', 'avg_half_life_squared'), 0.5510391039486231)\n",
      "Best selection:\n",
      "(('avg_birth_death', 'avg_birth_death_inverted', 'std_birth_death', 'avg_life'), 0.7285709264822879)\n",
      "\n",
      "\n",
      "\n",
      "Sampler:  random\n",
      "Missing  ['model_28', 'model_29', 'model_156', 'model_157', 'model_220', 'model_221']\n"
     ]
    },
    {
     "name": "stderr",
     "output_type": "stream",
     "text": [
      "100%|██████████| 255/255 [00:00<00:00, 389.12it/s]"
     ]
    },
    {
     "name": "stdout",
     "output_type": "stream",
     "text": [
      "All features:\n",
      "(('avg_birth_death', 'avg_birth_death_squared', 'avg_birth_death_inverted', 'std_birth_death', 'avg_life', 'avg_life_squared', 'avg_half_life', 'avg_half_life_squared'), 0.7885525356416322)\n",
      "Best selection:\n",
      "(('avg_birth_death_inverted', 'std_birth_death', 'avg_life_squared'), 0.8858811366890595)\n",
      "\n",
      "\n",
      "\n"
     ]
    },
    {
     "name": "stderr",
     "output_type": "stream",
     "text": [
      "\n"
     ]
    }
   ],
   "source": [
    "for dir in (outdir / 'task1').iterdir():\n",
    "\tif not dir.is_dir() or dir.name == 'stratifiedkmeans':\n",
    "\t\tcontinue\n",
    "\tprint('Sampler: ', dir.name)\n",
    "\tX, y = get_labeled_data(dir)\n",
    "\tresults = run_experiment(X, y, LinearRegression)\n",
    "\tprint('All features:')\n",
    "\tprint(max(results.items(), key=lambda x: len(x[0])))\n",
    "\tprint('Best selection:')\n",
    "\tprint(max(results.items(), key=lambda x: x[1]))\n",
    "\tprint('\\n\\n')"
   ]
  }
 ],
 "metadata": {
  "kernelspec": {
   "display_name": ".venv",
   "language": "python",
   "name": "python3"
  },
  "language_info": {
   "codemirror_mode": {
    "name": "ipython",
    "version": 3
   },
   "file_extension": ".py",
   "mimetype": "text/x-python",
   "name": "python",
   "nbconvert_exporter": "python",
   "pygments_lexer": "ipython3",
   "version": "3.9.15"
  },
  "orig_nbformat": 4,
  "vscode": {
   "interpreter": {
    "hash": "da64f636dadf952de2ebe4aa0072f72cf4c362dd113af031c1ed8ef45d32abdd"
   }
  }
 },
 "nbformat": 4,
 "nbformat_minor": 2
}
