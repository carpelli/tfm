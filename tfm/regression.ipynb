{
 "cells": [
  {
   "cell_type": "code",
   "execution_count": 1,
   "metadata": {},
   "outputs": [],
   "source": [
    "from pathlib import Path\n",
    "import pickle\n",
    "import itertools\n",
    "\n",
    "import numpy as np\n",
    "from tqdm import tqdm\n",
    "from sklearn.model_selection import train_test_split\n",
    "from sklearn.linear_model import LinearRegression\n",
    "\n",
    "from ruben import PersistenceDiagram"
   ]
  },
  {
   "cell_type": "code",
   "execution_count": 14,
   "metadata": {},
   "outputs": [],
   "source": [
    "from gtda.diagrams import PersistenceEntropy, ComplexPolynomial\n",
    "\n",
    "def features_for_dim(pd, dim):\n",
    "\t# b: birth, d: death, q: dimension\n",
    "\tb, d, _ = pd[pd[:,2] == dim].T\n",
    "\tif dim == 0:\n",
    "\t\tassert d[-1] == np.inf\n",
    "\t\td[-1] = 1\n",
    "\twith np.errstate(invalid='ignore', divide='ignore'):\n",
    "\t\treturn [\n",
    "\t\t\tmean_bd := np.c_[b, d].mean(axis=0),\n",
    "\t\t\tmean_bd**2,\n",
    "\t\t\tnp.nan_to_num(1/mean_bd + np.log(mean_bd)), # fix divide by zero\n",
    "\t\t\tnp.c_[b, d].std(axis=0),\n",
    "\t\t\t[np.mean(b - d)],\n",
    "\t\t\t[np.mean(b - d)**2],\n",
    "\t\t\t[np.mean((b + d) / 2)],\n",
    "\t\t\t[np.mean((b + d) / 2)**2],\n",
    "\t\t\tPersistenceEntropy().fit_transform([np.c_[pd]])[0],\n",
    "\t\t\tComplexPolynomial().fit_transform([np.c_[pd]])[0],\n",
    "\t\t\t# should i include the other stuff\n",
    "\t\t\tnp.pad(np.sort(d - b)[:-11:-1], (0, max(0, 10 - len(b))))\n",
    "\t\t]\n",
    "\n",
    "feature_names = [\n",
    "\t'avg_birth_death', 'avg_birth_death_squared', 'avg_birth_death_inverted', 'std_birth_death',\n",
    "\t'avg_life', 'avg_life_squared', 'avg_half_life', 'avg_half_life_squared',\n",
    "\t'entropy',\n",
    "\t'complex_roots',\n",
    "\t'pooling'\n",
    "]\n",
    "\n",
    "def features_all_dims(pd):\n",
    "\tarrs = [np.concatenate(features_for_dim(pd, dim)) for dim in (0, 1)]\n",
    "\treturn np.vstack(arrs)"
   ]
  },
  {
   "cell_type": "code",
   "execution_count": 15,
   "metadata": {},
   "outputs": [],
   "source": [
    "outdir = Path('../out/task1/random')\n",
    "\n",
    "def extract_pd(path: Path):\n",
    "\twith open(path, 'rb') as f:\n",
    "\t\tobj: PersistenceDiagram = pickle.load(f)\n",
    "\treturn np.array([[p.birth, p.death, p.dim] for p in obj.points])\n",
    "\n",
    "pds = [*map(extract_pd, outdir.glob('*.bin'))]"
   ]
  },
  {
   "cell_type": "code",
   "execution_count": 16,
   "metadata": {},
   "outputs": [],
   "source": [
    "lengths = map(len, features_for_dim(pds[0], 0))\n",
    "feature_lengths = dict(zip(feature_names, lengths))"
   ]
  },
  {
   "cell_type": "code",
   "execution_count": 17,
   "metadata": {},
   "outputs": [
    {
     "name": "stderr",
     "output_type": "stream",
     "text": [
      "100%|██████████| 90/90 [04:45<00:00,  3.17s/it]\n"
     ]
    }
   ],
   "source": [
    "X = np.stack([*map(features_all_dims, tqdm(pds))])"
   ]
  },
  {
   "cell_type": "code",
   "execution_count": 27,
   "metadata": {},
   "outputs": [],
   "source": [
    "X = np.nan_to_num(X)"
   ]
  },
  {
   "cell_type": "code",
   "execution_count": 22,
   "metadata": {},
   "outputs": [],
   "source": [
    "import json\n",
    "\n",
    "\n",
    "ref_file = Path(\n",
    "    \"/Users/otis/Documents/rubens_speelhoekje/google/google_data/public_data/reference_data/task1_v4/model_configs.json\")\n",
    "config = json.loads(ref_file.read_text())\n",
    "y = [\n",
    "\tconfig[name]['metrics']['train_acc'] - config[name]['metrics']['test_acc']\n",
    "\tfor f in outdir.glob('*.bin') if (name := f.stem.split('_')[1])\n",
    "]"
   ]
  },
  {
   "cell_type": "code",
   "execution_count": 28,
   "metadata": {},
   "outputs": [],
   "source": [
    "def feature_mask(included):\n",
    "\treturn np.concatenate([\n",
    "\t\tnp.full(length, 1 if feature in included else 0)\n",
    "\t\tfor feature, length in feature_lengths.items()\n",
    "\t])\n",
    "\n",
    "def run_experiment(X, y, model_fn):\n",
    "\tresults = {}\n",
    "\tcombinations = itertools.chain(*(\n",
    "\t\titertools.combinations(feature_names, r)\n",
    "\t\tfor r in range(1, len(feature_names) + 1)\n",
    "\t))\n",
    "\tfor features in tqdm([*combinations]):\n",
    "\t\t# Should I do cross-validation here?\n",
    "\t\t# and vary the splits over the different combos\n",
    "\t\t# or keep them the same?\n",
    "\t\tX_masked = X[:,:,np.where(feature_mask(features))[0]]\n",
    "\t\tX_flattened = X_masked.reshape((len(X), -1))\n",
    "\t\tX_train, X_test, y_train, y_test = \\\n",
    "\t\t\ttrain_test_split(X_flattened, y, train_size=0.7)\n",
    "\t\treg = model_fn().fit(X_train, y_train)\n",
    "\t\tresults[features] = reg.score(X_test, y_test)\n",
    "\treturn results"
   ]
  },
  {
   "cell_type": "code",
   "execution_count": 30,
   "metadata": {},
   "outputs": [
    {
     "name": "stderr",
     "output_type": "stream",
     "text": [
      "100%|██████████| 2047/2047 [00:06<00:00, 334.84it/s]\n"
     ]
    }
   ],
   "source": [
    "results = run_experiment(X, y, LinearRegression)"
   ]
  },
  {
   "cell_type": "code",
   "execution_count": 32,
   "metadata": {},
   "outputs": [
    {
     "data": {
      "text/plain": [
       "(('avg_birth_death',\n",
       "  'avg_birth_death_squared',\n",
       "  'std_birth_death',\n",
       "  'avg_life',\n",
       "  'avg_life_squared',\n",
       "  'avg_half_life',\n",
       "  'avg_half_life_squared'),\n",
       " 0.9233337809975324)"
      ]
     },
     "execution_count": 32,
     "metadata": {},
     "output_type": "execute_result"
    }
   ],
   "source": [
    "import operator\n",
    "\n",
    "\n",
    "max(results.items(), key=operator.itemgetter(1))"
   ]
  },
  {
   "cell_type": "markdown",
   "metadata": {},
   "source": []
  },
  {
   "cell_type": "code",
   "execution_count": 47,
   "metadata": {},
   "outputs": [
    {
     "name": "stderr",
     "output_type": "stream",
     "text": [
      "100%|██████████| 96/96 [00:29<00:00,  3.31it/s]\n"
     ]
    }
   ],
   "source": [
    "from tqdm import tqdm\n",
    "\n",
    "def extract_pd(path: Path):\n",
    "\twith open(path, 'rb') as f:\n",
    "\t\tobj: PersistenceDiagram = pickle.load(f)\n",
    "\tpd = np.array([[p.birth, p.death, p.dim] for p in obj.points])\n",
    "\n",
    "X = np.array(list(map(extract_features, tqdm(paths))))"
   ]
  },
  {
   "cell_type": "code",
   "execution_count": null,
   "metadata": {},
   "outputs": [],
   "source": []
  },
  {
   "cell_type": "code",
   "execution_count": 48,
   "metadata": {},
   "outputs": [],
   "source": [
    "import json\n",
    "\n",
    "model_names = [p.stem.partition('_')[-1] for p in paths]\n",
    "with open(DATA_PATH / '../../reference_data/task1_v4/model_configs.json') as f:\n",
    "\tconfig = json.load(f)\n",
    "\n",
    "y = [config[name]['metrics']['train_acc'] - config[name]['metrics']['test_acc'] for name in model_names]"
   ]
  },
  {
   "cell_type": "code",
   "execution_count": 64,
   "metadata": {},
   "outputs": [
    {
     "name": "stderr",
     "output_type": "stream",
     "text": [
      "/Users/otis/Sync/uni/tfm/.venv/lib/python3.10/site-packages/sklearn/linear_model/_ridge.py:251: UserWarning: Singular matrix in solving dual problem. Using least-squares solution instead.\n",
      "  warnings.warn(\n"
     ]
    },
    {
     "data": {
      "text/plain": [
       "0.023784005473514114"
      ]
     },
     "execution_count": 64,
     "metadata": {},
     "output_type": "execute_result"
    }
   ],
   "source": [
    "from sklearn.model_selection import train_test_split\n",
    "from sklearn.linear_model import Ridge\n",
    "\n",
    "X_train, X_test, y_train, y_test = train_test_split(\n",
    "\tX, y, train_size=0.7, random_state=20)\n",
    "\n",
    "Ridge(alpha=0.5).fit(X_train, y_train).score(X_test, y_test)"
   ]
  }
 ],
 "metadata": {
  "kernelspec": {
   "display_name": ".venv",
   "language": "python",
   "name": "python3"
  },
  "language_info": {
   "codemirror_mode": {
    "name": "ipython",
    "version": 3
   },
   "file_extension": ".py",
   "mimetype": "text/x-python",
   "name": "python",
   "nbconvert_exporter": "python",
   "pygments_lexer": "ipython3",
   "version": "3.9.15"
  },
  "orig_nbformat": 4,
  "vscode": {
   "interpreter": {
    "hash": "da64f636dadf952de2ebe4aa0072f72cf4c362dd113af031c1ed8ef45d32abdd"
   }
  }
 },
 "nbformat": 4,
 "nbformat_minor": 2
}
