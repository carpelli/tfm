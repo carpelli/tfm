{
 "cells": [
  {
   "cell_type": "code",
   "execution_count": 17,
   "metadata": {},
   "outputs": [],
   "source": [
    "from pathlib import Path\n",
    "import pickle\n",
    "\n",
    "import numpy as np\n",
    "\n",
    "from ruben import PersistenceDiagram\n",
    "from main import OUTDIR, DATA_PATH"
   ]
  },
  {
   "cell_type": "code",
   "execution_count": 39,
   "metadata": {},
   "outputs": [],
   "source": [
    "from gtda.diagrams import PersistenceEntropy, ComplexPolynomial\n",
    "\n",
    "def features_per_dim(b, d, q):\n",
    "\tif q[0] == 0:\n",
    "\t\td[-1] = 1\n",
    "\twith np.errstate(invalid='ignore', divide='ignore'):\n",
    "\t\treturn np.hstack([\n",
    "\t\t\tmean_bd := np.c_[b, d].mean(axis=0),\n",
    "\t\t\tmean_bd**2,\n",
    "\t\t\tnp.nan_to_num(1/mean_bd + np.log(mean_bd)), # fix divide by zero\n",
    "\t\t\tnp.c_[b, d].std(axis=0),\n",
    "\t\t\tnp.mean(b - d),\n",
    "\t\t\tnp.mean(b - d)**2,\n",
    "\t\t\tnp.mean((b + d) / 2),\n",
    "\t\t\tnp.mean((b + d) / 2)**2,\n",
    "\t\t\tPersistenceEntropy().fit_transform([np.c_[b, d, q]])[0],\n",
    "\t\t\tComplexPolynomial().fit_transform([np.c_[b, d, q]])[0],\n",
    "\t\t\t# should i include the other stuff\n",
    "\t\t\tnp.pad(np.sort(d - b)[:-11:-1], (0, max(0, 10 - len(b))))\n",
    "\t\t])\n",
    "\n",
    "def features(pd, max_dim):\n",
    "\treturn np.hstack([features_per_dim(*pd[pd[:,2]==q].T) for q in range(max_dim + 1)])"
   ]
  },
  {
   "cell_type": "code",
   "execution_count": 46,
   "metadata": {},
   "outputs": [],
   "source": [
    "paths = [*OUTDIR.glob('./task1/pds/importance/*.bin')]"
   ]
  },
  {
   "cell_type": "code",
   "execution_count": 47,
   "metadata": {},
   "outputs": [
    {
     "name": "stderr",
     "output_type": "stream",
     "text": [
      "100%|██████████| 96/96 [00:29<00:00,  3.31it/s]\n"
     ]
    }
   ],
   "source": [
    "from tqdm import tqdm\n",
    "\n",
    "def extract_features(path: Path):\n",
    "\twith open(path, 'rb') as f:\n",
    "\t\tobj: PersistenceDiagram = pickle.load(f)\n",
    "\tpd = np.array([[p.birth, p.death, p.dim] for p in obj.points])\n",
    "\treturn features(pd, 1)\n",
    "\n",
    "X = np.array(list(map(extract_features, tqdm(paths))))"
   ]
  },
  {
   "cell_type": "code",
   "execution_count": 48,
   "metadata": {},
   "outputs": [],
   "source": [
    "import json\n",
    "\n",
    "model_names = [p.stem.partition('_')[-1] for p in paths]\n",
    "with open(DATA_PATH / '../../reference_data/task1_v4/model_configs.json') as f:\n",
    "\tconfig = json.load(f)\n",
    "\n",
    "y = [config[name]['metrics']['train_acc'] - config[name]['metrics']['test_acc'] for name in model_names]"
   ]
  },
  {
   "cell_type": "code",
   "execution_count": 64,
   "metadata": {},
   "outputs": [
    {
     "name": "stderr",
     "output_type": "stream",
     "text": [
      "/Users/otis/Sync/uni/tfm/.venv/lib/python3.10/site-packages/sklearn/linear_model/_ridge.py:251: UserWarning: Singular matrix in solving dual problem. Using least-squares solution instead.\n",
      "  warnings.warn(\n"
     ]
    },
    {
     "data": {
      "text/plain": [
       "0.023784005473514114"
      ]
     },
     "execution_count": 64,
     "metadata": {},
     "output_type": "execute_result"
    }
   ],
   "source": [
    "from sklearn.model_selection import train_test_split\n",
    "from sklearn.linear_model import Ridge\n",
    "\n",
    "X_train, X_test, y_train, y_test = train_test_split(\n",
    "\tX, y, train_size=0.7, random_state=20)\n",
    "\n",
    "Ridge(alpha=0.5).fit(X_train, y_train).score(X_test, y_test)"
   ]
  }
 ],
 "metadata": {
  "kernelspec": {
   "display_name": ".venv",
   "language": "python",
   "name": "python3"
  },
  "language_info": {
   "codemirror_mode": {
    "name": "ipython",
    "version": 3
   },
   "file_extension": ".py",
   "mimetype": "text/x-python",
   "name": "python",
   "nbconvert_exporter": "python",
   "pygments_lexer": "ipython3",
   "version": "3.10.8"
  },
  "orig_nbformat": 4,
  "vscode": {
   "interpreter": {
    "hash": "da64f636dadf952de2ebe4aa0072f72cf4c362dd113af031c1ed8ef45d32abdd"
   }
  }
 },
 "nbformat": 4,
 "nbformat_minor": 2
}
